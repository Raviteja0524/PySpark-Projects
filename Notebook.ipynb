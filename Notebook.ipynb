{
 "cells": [
  {
   "cell_type": "code",
   "execution_count": 0,
   "metadata": {
    "application/vnd.databricks.v1+cell": {
     "cellMetadata": {
      "byteLimit": 2048000,
      "rowLimit": 10000
     },
     "inputWidgets": {},
     "nuid": "655bc264-5455-4012-a6d6-37f3141def57",
     "showTitle": false,
     "title": ""
    }
   },
   "outputs": [],
   "source": [
    "import pyspark\n",
    "from pyspark.sql import SparkSession\n",
    "from pyspark.sql.types import StructType, StructField, StringType, IntegerType\n",
    "from pyspark.sql.functions import *"
   ]
  },
  {
   "cell_type": "code",
   "execution_count": 0,
   "metadata": {
    "application/vnd.databricks.v1+cell": {
     "cellMetadata": {
      "byteLimit": 2048000,
      "rowLimit": 10000
     },
     "inputWidgets": {},
     "nuid": "ba22672f-e63b-4ae6-aa98-0bde5f9ff90c",
     "showTitle": false,
     "title": ""
    }
   },
   "outputs": [
    {
     "output_type": "stream",
     "name": "stdout",
     "output_type": "stream",
     "text": [
      "+--------------------+--------------+------+-------+----+----------+----+-----+--------------+--------------------+----------------+-----------+------------+\n|                 App|      Category|Rating|Reviews|Size|  Installs|Type|Price|Content Rating|              Genres|    Last Updated|Current Ver| Android Ver|\n+--------------------+--------------+------+-------+----+----------+----+-----+--------------+--------------------+----------------+-----------+------------+\n|Photo Editor & Ca...|ART_AND_DESIGN|   4.1|    159| 19M|   10,000+|Free|    0|      Everyone|        Art & Design| January 7, 2018|      1.0.0|4.0.3 and up|\n| Coloring book moana|ART_AND_DESIGN|   3.9|    967| 14M|  500,000+|Free|    0|      Everyone|Art & Design;Pret...|January 15, 2018|      2.0.0|4.0.3 and up|\n|U Launcher Lite –...|ART_AND_DESIGN|   4.7|  87510|8.7M|5,000,000+|Free|    0|      Everyone|        Art & Design|  August 1, 2018|      1.2.4|4.0.3 and up|\n+--------------------+--------------+------+-------+----+----------+----+-----+--------------+--------------------+----------------+-----------+------------+\nonly showing top 3 rows\n\n"
     ]
    }
   ],
   "source": [
    "path=\"/FileStore/tables/googlestore.csv\"\n",
    "Apps=spark.read.load(\"/FileStore/tables/googlestore.csv\", format='csv', header=True, sep=',', escape='\"', inferschema=True)\n",
    "Apps.show(3)"
   ]
  },
  {
   "cell_type": "code",
   "execution_count": 0,
   "metadata": {
    "application/vnd.databricks.v1+cell": {
     "cellMetadata": {
      "byteLimit": 2048000,
      "rowLimit": 10000
     },
     "inputWidgets": {},
     "nuid": "2e748dc5-acd6-4d85-877a-42a27e48601f",
     "showTitle": true,
     "title": "Data cleaning"
    }
   },
   "outputs": [
    {
     "output_type": "stream",
     "name": "stdout",
     "output_type": "stream",
     "text": [
      "+--------------------+--------------+------+-------+--------+----+-----+--------------+\n|                 App|      Category|Rating|Reviews|Installs|Type|Price|Content Rating|\n+--------------------+--------------+------+-------+--------+----+-----+--------------+\n|Photo Editor & Ca...|ART_AND_DESIGN|     4|    159|   10000|Free|    0|      Everyone|\n| Coloring book moana|ART_AND_DESIGN|     3|    967|  500000|Free|    0|      Everyone|\n|U Launcher Lite –...|ART_AND_DESIGN|     4|  87510| 5000000|Free|    0|      Everyone|\n|Sketch - Draw & P...|ART_AND_DESIGN|     4| 215644|50000000|Free|    0|          Teen|\n|Pixel Draw - Numb...|ART_AND_DESIGN|     4|    967|  100000|Free|    0|      Everyone|\n|Paper flowers ins...|ART_AND_DESIGN|     4|    167|   50000|Free|    0|      Everyone|\n|Smoke Effect Phot...|ART_AND_DESIGN|     3|    178|   50000|Free|    0|      Everyone|\n|    Infinite Painter|ART_AND_DESIGN|     4|  36815| 1000000|Free|    0|      Everyone|\n|Garden Coloring Book|ART_AND_DESIGN|     4|  13791| 1000000|Free|    0|      Everyone|\n|Kids Paint Free -...|ART_AND_DESIGN|     4|    121|   10000|Free|    0|      Everyone|\n+--------------------+--------------+------+-------+--------+----+-----+--------------+\nonly showing top 10 rows\n\n"
     ]
    }
   ],
   "source": [
    "Apps=Apps.drop(\"Android Ver\",\"Current Ver\",\"Last Updated\",\"Size\",\"Genres\")\n",
    "Apps.show(10)"
   ]
  },
  {
   "cell_type": "code",
   "execution_count": 0,
   "metadata": {
    "application/vnd.databricks.v1+cell": {
     "cellMetadata": {
      "byteLimit": 2048000,
      "rowLimit": 10000
     },
     "inputWidgets": {},
     "nuid": "e5d35adc-d1b1-4c39-9834-2663b1a5ac01",
     "showTitle": false,
     "title": ""
    }
   },
   "outputs": [
    {
     "output_type": "stream",
     "name": "stdout",
     "output_type": "stream",
     "text": [
      "root\n |-- App: string (nullable = true)\n |-- Category: string (nullable = true)\n |-- Rating: integer (nullable = true)\n |-- Reviews: integer (nullable = true)\n |-- Installs: string (nullable = true)\n |-- Type: string (nullable = true)\n |-- Price: string (nullable = true)\n |-- Content Rating: string (nullable = true)\n\n"
     ]
    }
   ],
   "source": [
    "Apps.printSchema()"
   ]
  },
  {
   "cell_type": "code",
   "execution_count": 0,
   "metadata": {
    "application/vnd.databricks.v1+cell": {
     "cellMetadata": {
      "byteLimit": 2048000,
      "rowLimit": 10000
     },
     "inputWidgets": {},
     "nuid": "c5ae9499-a0d3-4746-9a6d-16f925a517c9",
     "showTitle": false,
     "title": ""
    }
   },
   "outputs": [],
   "source": [
    "Apps = Apps.withColumn('Reviews', Apps['Reviews'].cast(IntegerType())).\\\n",
    "    withColumn('Rating', Apps['Rating'].cast(IntegerType()))"
   ]
  },
  {
   "cell_type": "code",
   "execution_count": 0,
   "metadata": {
    "application/vnd.databricks.v1+cell": {
     "cellMetadata": {
      "byteLimit": 2048000,
      "rowLimit": 10000
     },
     "inputWidgets": {},
     "nuid": "d08fcd92-7384-4e4f-a0dc-a5edb5f8bae2",
     "showTitle": false,
     "title": ""
    }
   },
   "outputs": [
    {
     "output_type": "stream",
     "name": "stdout",
     "output_type": "stream",
     "text": [
      "+--------------------+--------------+------+-------+--------+----+-----+--------------+\n|                 App|      Category|Rating|Reviews|Installs|Type|Price|Content Rating|\n+--------------------+--------------+------+-------+--------+----+-----+--------------+\n|Photo Editor & Ca...|ART_AND_DESIGN|     4|    159|   10000|Free|    0|      Everyone|\n| Coloring book moana|ART_AND_DESIGN|     3|    967|  500000|Free|    0|      Everyone|\n|U Launcher Lite –...|ART_AND_DESIGN|     4|  87510| 5000000|Free|    0|      Everyone|\n|Sketch - Draw & P...|ART_AND_DESIGN|     4| 215644|50000000|Free|    0|          Teen|\n|Pixel Draw - Numb...|ART_AND_DESIGN|     4|    967|  100000|Free|    0|      Everyone|\n|Paper flowers ins...|ART_AND_DESIGN|     4|    167|   50000|Free|    0|      Everyone|\n|Smoke Effect Phot...|ART_AND_DESIGN|     3|    178|   50000|Free|    0|      Everyone|\n|    Infinite Painter|ART_AND_DESIGN|     4|  36815| 1000000|Free|    0|      Everyone|\n|Garden Coloring Book|ART_AND_DESIGN|     4|  13791| 1000000|Free|    0|      Everyone|\n|Kids Paint Free -...|ART_AND_DESIGN|     4|    121|   10000|Free|    0|      Everyone|\n+--------------------+--------------+------+-------+--------+----+-----+--------------+\nonly showing top 10 rows\n\n"
     ]
    }
   ],
   "source": [
    "from pyspark.sql.functions import col, regexp_replace\n",
    "Apps = Apps.withColumn(\"Installs\", regexp_replace(col(\"Installs\"),\"[^0-9]\",\"\"))\\\n",
    "        .withColumn(\"Installs\", col(\"Installs\").cast (IntegerType()))\\\n",
    "        .withColumn(\"Price\", regexp_replace(col(\"Price\"),\"[$]\",\"\"))\\\n",
    "            .withColumn(\"Price\", col(\"Price\").cast(IntegerType()))\n",
    "Apps.show(10)"
   ]
  },
  {
   "cell_type": "code",
   "execution_count": 0,
   "metadata": {
    "application/vnd.databricks.v1+cell": {
     "cellMetadata": {
      "byteLimit": 2048000,
      "rowLimit": 10000
     },
     "inputWidgets": {},
     "nuid": "f08872ce-ad8b-4c68-8385-e3ff335419e9",
     "showTitle": false,
     "title": ""
    }
   },
   "outputs": [
    {
     "output_type": "stream",
     "name": "stdout",
     "output_type": "stream",
     "text": [
      "root\n |-- App: string (nullable = true)\n |-- Category: string (nullable = true)\n |-- Rating: integer (nullable = true)\n |-- Reviews: integer (nullable = true)\n |-- Installs: integer (nullable = true)\n |-- Type: string (nullable = true)\n |-- Price: integer (nullable = true)\n |-- Content Rating: string (nullable = true)\n\n"
     ]
    }
   ],
   "source": [
    "Apps.printSchema()"
   ]
  },
  {
   "cell_type": "code",
   "execution_count": 0,
   "metadata": {
    "application/vnd.databricks.v1+cell": {
     "cellMetadata": {
      "byteLimit": 2048000,
      "rowLimit": 10000
     },
     "inputWidgets": {},
     "nuid": "0661e768-7837-4938-becc-223b7d40086b",
     "showTitle": true,
     "title": "Top 10 Reviews given to apps"
    }
   },
   "outputs": [
    {
     "output_type": "stream",
     "name": "stdout",
     "output_type": "stream",
     "text": [
      "+--------------------+------------+\n|                 App|sum(Reviews)|\n+--------------------+------------+\n|           Instagram|   266241989|\n|  WhatsApp Messenger|   207348304|\n|      Clash of Clans|   179558781|\n|Messenger – Text ...|   169932272|\n|      Subway Surfers|   166331958|\n|    Candy Crush Saga|   156993136|\n|            Facebook|   156286514|\n|         8 Ball Pool|    99386198|\n|        Clash Royale|    92530298|\n|            Snapchat|    68045010|\n+--------------------+------------+\nonly showing top 10 rows\n\n"
     ]
    }
   ],
   "source": [
    "Top_reviews=Apps.groupBy(\"App\").sum('Reviews')\n",
    "Top_reviews.sort(Top_reviews['sum(reviews)'].desc()).show(10)"
   ]
  },
  {
   "cell_type": "code",
   "execution_count": 0,
   "metadata": {
    "application/vnd.databricks.v1+cell": {
     "cellMetadata": {
      "byteLimit": 2048000,
      "rowLimit": 10000
     },
     "inputWidgets": {},
     "nuid": "c3689b94-f92f-4b7b-b62c-c076daeb98be",
     "showTitle": true,
     "title": "Top 10 installed apps and distribution of type(free/paid)"
    }
   },
   "outputs": [
    {
     "output_type": "stream",
     "name": "stdout",
     "output_type": "stream",
     "text": [
      "+------------------+----+-------------+\n|               App|Type|sum(Installs)|\n+------------------+----+-------------+\n|    Subway Surfers|Free|   6000000000|\n|      Google Drive|Free|   4000000000|\n|       Google News|Free|   4000000000|\n|     Google Photos|Free|   4000000000|\n|         Instagram|Free|   4000000000|\n|          Hangouts|Free|   4000000000|\n|  Candy Crush Saga|Free|   3500000000|\n|      Temple Run 2|Free|   3000000000|\n|WhatsApp Messenger|Free|   3000000000|\n|             Gmail|Free|   3000000000|\n+------------------+----+-------------+\nonly showing top 10 rows\n\n"
     ]
    }
   ],
   "source": [
    "Top_install=Apps.groupBy(\"App\",\"Type\").sum(\"Installs\")\n",
    "Top_install.sort(Top_install['sum(installs)'].desc()).show(10)"
   ]
  },
  {
   "cell_type": "code",
   "execution_count": 0,
   "metadata": {
    "application/vnd.databricks.v1+cell": {
     "cellMetadata": {
      "byteLimit": 2048000,
      "rowLimit": 10000
     },
     "inputWidgets": {},
     "nuid": "ffe4de05-16b9-4c26-bd0b-e20c89c20f1b",
     "showTitle": true,
     "title": "category wise distribution of installed apps"
    }
   },
   "outputs": [
    {
     "output_type": "stream",
     "name": "stdout",
     "output_type": "stream",
     "text": [
      "+------------------+-------------+\n|          Category|sum(Installs)|\n+------------------+-------------+\n|              GAME|  35086024415|\n|     COMMUNICATION|  32647276251|\n|      PRODUCTIVITY|  14176091369|\n|            SOCIAL|  14069867902|\n|             TOOLS|  11452771915|\n|            FAMILY|  10258263505|\n|       PHOTOGRAPHY|  10088247655|\n|NEWS_AND_MAGAZINES|   7496317760|\n|  TRAVEL_AND_LOCAL|   6868887146|\n|     VIDEO_PLAYERS|   6222002720|\n+------------------+-------------+\nonly showing top 10 rows\n\n"
     ]
    }
   ],
   "source": [
    "category=Apps.groupBy(\"Category\").sum(\"Installs\")\n",
    "category.sort(category['sum(installs)'].desc()).show(10)"
   ]
  },
  {
   "cell_type": "code",
   "execution_count": 0,
   "metadata": {
    "application/vnd.databricks.v1+cell": {
     "cellMetadata": {
      "byteLimit": 2048000,
      "rowLimit": 10000
     },
     "inputWidgets": {},
     "nuid": "3913a670-5e56-40fe-956e-7b942e1e0096",
     "showTitle": true,
     "title": "Top paid apps"
    }
   },
   "outputs": [
    {
     "output_type": "stream",
     "name": "stdout",
     "output_type": "stream",
     "text": [
      "+--------------------+----------+\n|                 App|sum(Price)|\n+--------------------+----------+\n|I'm Rich - Trump ...|       400|\n|I'm Rich/Eu sou R...|       399|\n|       I Am Rich Pro|       399|\n|  I AM RICH PRO PLUS|       399|\n|           I am Rich|       399|\n|most expensive ap...|       399|\n|  I am rich(premium)|       399|\n|         💎 I'm rich|       399|\n|      I am Rich Plus|       399|\n|   I Am Rich Premium|       399|\n+--------------------+----------+\nonly showing top 10 rows\n\n"
     ]
    }
   ],
   "source": [
    "Paid_apps=Apps.groupBy(\"App\").sum(\"Price\")\n",
    "Paid_apps.sort(Paid_apps['sum(Price)'].desc()).show(10)"
   ]
  },
  {
   "cell_type": "code",
   "execution_count": 0,
   "metadata": {
    "application/vnd.databricks.v1+cell": {
     "cellMetadata": {
      "byteLimit": 2048000,
      "rowLimit": 10000
     },
     "inputWidgets": {},
     "nuid": "fc5a5e51-0e9f-489a-8fbd-b858b437cbca",
     "showTitle": true,
     "title": "Top paid rating apps"
    }
   },
   "outputs": [
    {
     "output_type": "stream",
     "name": "stdout",
     "output_type": "stream",
     "text": [
      "+--------------------+------+----------+\n|                 App|Rating|sum(Price)|\n+--------------------+------+----------+\n|I'm Rich - Trump ...|     3|       400|\n|           I am rich|     3|       399|\n|I'm Rich/Eu sou R...|     0|       399|\n|most expensive ap...|     4|       399|\n|         💎 I'm rich|     3|       399|\n|           I am Rich|     4|       399|\n|          I am Rich!|     3|       399|\n|I am rich (Most e...|     4|       399|\n|       I Am Rich Pro|     4|       399|\n|   I Am Rich Premium|     4|       399|\n+--------------------+------+----------+\nonly showing top 10 rows\n\n"
     ]
    }
   ],
   "source": [
    "Paid_rating_apps=Apps.groupBy(\"App\",\"Rating\").sum(\"Price\")\n",
    "Paid_rating_apps.sort(Paid_rating_apps['sum(Price)'].desc()).show(10)"
   ]
  }
 ],
 "metadata": {
  "application/vnd.databricks.v1+notebook": {
   "dashboards": [],
   "language": "python",
   "notebookMetadata": {
    "pythonIndentUnit": 4
   },
   "notebookName": "Notebook1",
   "widgets": {}
  }
 },
 "nbformat": 4,
 "nbformat_minor": 0
}
